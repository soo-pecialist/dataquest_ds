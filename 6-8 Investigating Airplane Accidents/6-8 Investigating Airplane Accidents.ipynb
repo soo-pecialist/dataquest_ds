{
 "cells": [
  {
   "cell_type": "markdown",
   "metadata": {},
   "source": [
    "## Introduction\n",
    "\n",
    "We'll be working with a data set that contains 77,282 aviation accidents that occurred in the U.S., and the metadata associated with them. The data in our AviationData.txt"
   ]
  },
  {
   "cell_type": "code",
   "execution_count": 1,
   "metadata": {},
   "outputs": [
    {
     "name": "stdout",
     "output_type": "stream",
     "text": [
      "['Event Id', 'Investigation Type', 'Accident Number', 'Event Date', 'Location', 'Country', 'Latitude', 'Longitude', 'Airport Code', 'Airport Name', 'Injury Severity', 'Aircraft Damage', 'Aircraft Category', 'Registration Number', 'Make', 'Model', 'Amateur Built', 'Number of Engines', 'Engine Type', 'FAR Description', 'Schedule', 'Purpose of Flight', 'Air Carrier', 'Total Fatal Injuries', 'Total Serious Injuries', 'Total Minor Injuries', 'Total Uninjured', 'Weather Condition', 'Broad Phase of Flight', 'Report Status', 'Publication Date', '']\n",
      "\n",
      "20150908X74637 | Accident | CEN15LA402 | 09/08/2015 | Freeport, IL | United States | 42.246111 | -89.581945 | KFEP | albertus Airport | Non-Fatal | Substantial | Unknown | N24TL | CLARKE REGINALD W | DRAGONFLY MK |  |  |  | Part 91: General Aviation |  | Personal |  |  | 1 |  |  | VMC | TAKEOFF | Preliminary | 09/09/2015 | \n",
      "\n",
      "['20150908X74637', 'Accident', 'CEN15LA402', '09/08/2015', 'Freeport, IL', 'United States', '42.246111', '-89.581945', 'KFEP', 'albertus Airport', 'Non-Fatal', 'Substantial', 'Unknown', 'N24TL', 'CLARKE REGINALD W', 'DRAGONFLY MK', '', '', '', 'Part 91: General Aviation', '', 'Personal', '', '', '1', '', '', 'VMC', 'TAKEOFF', 'Preliminary', '09/09/2015', '']\n"
     ]
    }
   ],
   "source": [
    "aviation_list = list()\n",
    "aviation_data = list()\n",
    "\n",
    "with open('AviationData.txt', 'r') as f:\n",
    "    for line in f:\n",
    "        aviation_data.append(line)   \n",
    "    for entry in aviation_data:\n",
    "        words = entry.split('|')\n",
    "        words_mod = [word.strip() for word in words]\n",
    "        aviation_list.append(words_mod)\n",
    "\n",
    "print(aviation_list[0], end='\\n\\n') # header\n",
    "print(aviation_data[1])\n",
    "print(aviation_list[1])"
   ]
  },
  {
   "cell_type": "markdown",
   "metadata": {},
   "source": [
    "## Linear Search"
   ]
  },
  {
   "cell_type": "code",
   "execution_count": 2,
   "metadata": {},
   "outputs": [
    {
     "name": "stdout",
     "output_type": "stream",
     "text": [
      "[['20001218X45447', 'Accident', 'LAX94LA336', '07/19/1962', 'BRIDGEPORT, CA', 'United States', '', '', '', '', 'Fatal(4)', 'Destroyed', '', 'N5069P', 'PIPER', 'PA24-180', 'No', '1', 'Reciprocating', '', '', 'Personal', '', '4', '0', '0', '0', 'UNK', 'UNKNOWN', 'Probable Cause', '09/19/1996', '']]\n"
     ]
    }
   ],
   "source": [
    "def linear_search(list_, code): #O(n^2)\n",
    "    holder = list()\n",
    "    for row in list_:\n",
    "        for item in row:\n",
    "            if item == code:\n",
    "                holder.append(row)\n",
    "                break\n",
    "    return holder\n",
    "\n",
    "lax_code = linear_search(aviation_list, \"LAX94LA336\")\n",
    "print(lax_code)"
   ]
  },
  {
   "cell_type": "markdown",
   "metadata": {},
   "source": [
    "We are able to search the data for a particular value with linear search, but return data is messy"
   ]
  },
  {
   "cell_type": "markdown",
   "metadata": {},
   "source": [
    "## Binary Search"
   ]
  },
  {
   "cell_type": "code",
   "execution_count": 3,
   "metadata": {
    "scrolled": true
   },
   "outputs": [
    {
     "data": {
      "text/plain": [
       "{'Event Id': '20150906X32704',\n",
       " 'Investigation Type': 'Accident',\n",
       " 'Accident Number': 'ERA15LA339',\n",
       " 'Event Date': '09/05/2015',\n",
       " 'Location': 'Laconia, NH',\n",
       " 'Country': 'United States',\n",
       " 'Latitude': '43.606389',\n",
       " 'Longitude': '-71.452778',\n",
       " 'Airport Code': 'LCI',\n",
       " 'Airport Name': 'Laconia Municipal Airport',\n",
       " 'Injury Severity': 'Fatal(1)',\n",
       " 'Aircraft Damage': 'Substantial',\n",
       " 'Aircraft Category': 'Weight-Shift',\n",
       " 'Registration Number': 'N2264X',\n",
       " 'Make': 'EVOLUTION AIRCRAFT INC',\n",
       " 'Model': 'REVO',\n",
       " 'Amateur Built': 'No',\n",
       " 'Number of Engines': '1',\n",
       " 'Engine Type': 'Reciprocating',\n",
       " 'FAR Description': 'Part 91: General Aviation',\n",
       " 'Schedule': '',\n",
       " 'Purpose of Flight': 'Personal',\n",
       " 'Air Carrier': '',\n",
       " 'Total Fatal Injuries': '1',\n",
       " 'Total Serious Injuries': '',\n",
       " 'Total Minor Injuries': '',\n",
       " 'Total Uninjured': '',\n",
       " 'Weather Condition': 'VMC',\n",
       " 'Broad Phase of Flight': 'MANEUVERING',\n",
       " 'Report Status': 'Preliminary',\n",
       " 'Publication Date': '09/10/2015'}"
      ]
     },
     "execution_count": 3,
     "metadata": {},
     "output_type": "execute_result"
    }
   ],
   "source": [
    "def to_dictionary(list_):\n",
    "    names = list()\n",
    "    data = list()\n",
    "    \n",
    "    for entry in list_:\n",
    "        words = entry.split('|')\n",
    "        words_mod = [word.strip() for word in words] \n",
    "        words_mod.pop()      # remove last ''\n",
    "        data.append(words_mod)\n",
    "    \n",
    "    names = data[0]\n",
    "    data = data[1:]\n",
    "    \n",
    "    dict_list = list()\n",
    "    for row in data:\n",
    "        dict_ = dict() # hold each row\n",
    "        for k in range(len(names)):\n",
    "            # row[k] is names[k] corresponding value\n",
    "            dict_[names[k]] = row[k]\n",
    "        dict_list.append(dict_)\n",
    "    return dict_list\n",
    "\n",
    "adl = to_dictionary(aviation_data)\n",
    "adl[1]"
   ]
  },
  {
   "cell_type": "code",
   "execution_count": 4,
   "metadata": {
    "scrolled": true
   },
   "outputs": [
    {
     "name": "stdout",
     "output_type": "stream",
     "text": [
      "[{'Event Id': '20150908X74637', 'Investigation Type': 'Accident', 'Accident Number': 'CEN15LA402', 'Event Date': '09/08/2015', 'Location': 'Freeport, IL', 'Country': 'United States', 'Latitude': '42.246111', 'Longitude': '-89.581945', 'Airport Code': 'KFEP', 'Airport Name': 'albertus Airport', 'Injury Severity': 'Non-Fatal', 'Aircraft Damage': 'Substantial', 'Aircraft Category': 'Unknown', 'Registration Number': 'N24TL', 'Make': 'CLARKE REGINALD W', 'Model': 'DRAGONFLY MK', 'Amateur Built': '', 'Number of Engines': '', 'Engine Type': '', 'FAR Description': 'Part 91: General Aviation', 'Schedule': '', 'Purpose of Flight': 'Personal', 'Air Carrier': '', 'Total Fatal Injuries': '', 'Total Serious Injuries': '1', 'Total Minor Injuries': '', 'Total Uninjured': '', 'Weather Condition': 'VMC', 'Broad Phase of Flight': 'TAKEOFF', 'Report Status': 'Preliminary', 'Publication Date': '09/09/2015'}, {'Event Id': '20150906X32704', 'Investigation Type': 'Accident', 'Accident Number': 'ERA15LA339', 'Event Date': '09/05/2015', 'Location': 'Laconia, NH', 'Country': 'United States', 'Latitude': '43.606389', 'Longitude': '-71.452778', 'Airport Code': 'LCI', 'Airport Name': 'Laconia Municipal Airport', 'Injury Severity': 'Fatal(1)', 'Aircraft Damage': 'Substantial', 'Aircraft Category': 'Weight-Shift', 'Registration Number': 'N2264X', 'Make': 'EVOLUTION AIRCRAFT INC', 'Model': 'REVO', 'Amateur Built': 'No', 'Number of Engines': '1', 'Engine Type': 'Reciprocating', 'FAR Description': 'Part 91: General Aviation', 'Schedule': '', 'Purpose of Flight': 'Personal', 'Air Carrier': '', 'Total Fatal Injuries': '1', 'Total Serious Injuries': '', 'Total Minor Injuries': '', 'Total Uninjured': '', 'Weather Condition': 'VMC', 'Broad Phase of Flight': 'MANEUVERING', 'Report Status': 'Preliminary', 'Publication Date': '09/10/2015'}, {'Event Id': '20150908X00229', 'Investigation Type': 'Accident', 'Accident Number': 'GAA15CA251', 'Event Date': '09/04/2015', 'Location': 'Hayes, SD', 'Country': 'United States', 'Latitude': '', 'Longitude': '', 'Airport Code': '', 'Airport Name': '', 'Injury Severity': '', 'Aircraft Damage': '', 'Aircraft Category': '', 'Registration Number': 'N321DA', 'Make': 'AIR TRACTOR INC', 'Model': 'AT 402A', 'Amateur Built': '', 'Number of Engines': '', 'Engine Type': '', 'FAR Description': '', 'Schedule': '', 'Purpose of Flight': '', 'Air Carrier': '', 'Total Fatal Injuries': '', 'Total Serious Injuries': '', 'Total Minor Injuries': '', 'Total Uninjured': '', 'Weather Condition': '', 'Broad Phase of Flight': '', 'Report Status': 'Preliminary', 'Publication Date': ''}]\n",
      "\n",
      "[{'Event Id': '20130128X92153', 'Investigation Type': 'Accident', 'Accident Number': 'WPR12TA445', 'Event Date': '', 'Location': 'Unknown, UN', 'Country': 'United States', 'Latitude': '', 'Longitude': '', 'Airport Code': '', 'Airport Name': '', 'Injury Severity': 'Non-Fatal', 'Aircraft Damage': 'Substantial', 'Aircraft Category': 'Airplane', 'Registration Number': 'N14CP', 'Make': 'BEECH', 'Model': 'C90', 'Amateur Built': 'No', 'Number of Engines': '2', 'Engine Type': 'Turbo Prop', 'FAR Description': 'Public Use', 'Schedule': '', 'Purpose of Flight': 'Public Aircraft - Federal', 'Air Carrier': '', 'Total Fatal Injuries': '', 'Total Serious Injuries': '', 'Total Minor Injuries': '', 'Total Uninjured': '1', 'Weather Condition': '', 'Broad Phase of Flight': '', 'Report Status': 'Preliminary', 'Publication Date': '02/08/2013'}, {'Event Id': '20010711X01367', 'Investigation Type': 'Incident', 'Accident Number': 'DCA00WA063', 'Event Date': '', 'Location': 'Cuzco, Peru', 'Country': 'Peru', 'Latitude': '', 'Longitude': '', 'Airport Code': '', 'Airport Name': '', 'Injury Severity': 'Incident', 'Aircraft Damage': '', 'Aircraft Category': '', 'Registration Number': '', 'Make': 'Boeing', 'Model': 'B-737', 'Amateur Built': 'No', 'Number of Engines': '', 'Engine Type': '', 'FAR Description': '', 'Schedule': 'SCHD', 'Purpose of Flight': '', 'Air Carrier': '', 'Total Fatal Injuries': '', 'Total Serious Injuries': '', 'Total Minor Injuries': '', 'Total Uninjured': '', 'Weather Condition': '', 'Broad Phase of Flight': '', 'Report Status': 'Foreign', 'Publication Date': '07/12/2001'}, {'Event Id': '20150729X33718', 'Investigation Type': 'Accident', 'Accident Number': 'CEN15FA325', 'Event Date': '', 'Location': 'Truth or Consequences, NM', 'Country': 'United States', 'Latitude': '33.250556', 'Longitude': '-107.293611', 'Airport Code': 'TCS', 'Airport Name': 'TRUTH OR CONSEQUENCES MUNI', 'Injury Severity': 'Fatal(2)', 'Aircraft Damage': 'Substantial', 'Aircraft Category': 'Airplane', 'Registration Number': 'N32401', 'Make': 'PIPER', 'Model': 'PA-28-151', 'Amateur Built': 'No', 'Number of Engines': '1', 'Engine Type': 'Reciprocating', 'FAR Description': 'Part 91: General Aviation', 'Schedule': '', 'Purpose of Flight': 'Personal', 'Air Carrier': '', 'Total Fatal Injuries': '2', 'Total Serious Injuries': '', 'Total Minor Injuries': '', 'Total Uninjured': '', 'Weather Condition': '', 'Broad Phase of Flight': 'UNKNOWN', 'Report Status': 'Preliminary', 'Publication Date': '08/10/2015'}]\n"
     ]
    }
   ],
   "source": [
    "aviation_dict_list = sorted(adl, key=lambda k: k['Accident Number']) # O(nlogn)\n",
    "print(adl[:3]); print();\n",
    "print(adl[-3:])"
   ]
  },
  {
   "cell_type": "code",
   "execution_count": 5,
   "metadata": {},
   "outputs": [
    {
     "name": "stdout",
     "output_type": "stream",
     "text": [
      "{'Event Id': '20001218X45447', 'Investigation Type': 'Accident', 'Accident Number': 'LAX94LA336', 'Event Date': '07/19/1962', 'Location': 'BRIDGEPORT, CA', 'Country': 'United States', 'Latitude': '', 'Longitude': '', 'Airport Code': '', 'Airport Name': '', 'Injury Severity': 'Fatal(4)', 'Aircraft Damage': 'Destroyed', 'Aircraft Category': '', 'Registration Number': 'N5069P', 'Make': 'PIPER', 'Model': 'PA24-180', 'Amateur Built': 'No', 'Number of Engines': '1', 'Engine Type': 'Reciprocating', 'FAR Description': '', 'Schedule': '', 'Purpose of Flight': 'Personal', 'Air Carrier': '', 'Total Fatal Injuries': '4', 'Total Serious Injuries': '0', 'Total Minor Injuries': '0', 'Total Uninjured': '0', 'Weather Condition': 'UNK', 'Broad Phase of Flight': 'UNKNOWN', 'Report Status': 'Probable Cause', 'Publication Date': '09/19/1996'}\n"
     ]
    }
   ],
   "source": [
    "def bin_search(dict_list, target):  #O(logn)\n",
    "    length = len(dict_list) \n",
    "    \n",
    "    ub = length - 1\n",
    "    lb = 0\n",
    "    \n",
    "    index = (ub + lb) // 2\n",
    "    guess = dict_list[index]['Accident Number']\n",
    "    while target != guess:\n",
    "        if lb >= ub:\n",
    "            return None\n",
    "        \n",
    "        if target < guess:\n",
    "            ub = index - 1\n",
    "        else:\n",
    "            lb = index + 1\n",
    "        \n",
    "        index = (ub + lb) // 2\n",
    "        guess = dict_list[index]['Accident Number']\n",
    "    return dict_list[index]\n",
    "\n",
    "print(bin_search(aviation_dict_list, 'LAX94LA336'))"
   ]
  },
  {
   "cell_type": "markdown",
   "metadata": {},
   "source": [
    "## Exploring Data"
   ]
  },
  {
   "cell_type": "markdown",
   "metadata": {},
   "source": [
    "### Find accidents that happened in USA"
   ]
  },
  {
   "cell_type": "code",
   "execution_count": 6,
   "metadata": {},
   "outputs": [
    {
     "ename": "NameError",
     "evalue": "name 'pd' is not defined",
     "output_type": "error",
     "traceback": [
      "\u001b[0;31m---------------------------------------------------------------------------\u001b[0m",
      "\u001b[0;31mNameError\u001b[0m                                 Traceback (most recent call last)",
      "\u001b[0;32m<ipython-input-6-80db2968f9f1>\u001b[0m in \u001b[0;36m<module>\u001b[0;34m()\u001b[0m\n\u001b[1;32m      4\u001b[0m \u001b[0;32mfor\u001b[0m \u001b[0mevent\u001b[0m \u001b[0;32min\u001b[0m \u001b[0maviation_dict_list\u001b[0m\u001b[0;34m:\u001b[0m\u001b[0;34m\u001b[0m\u001b[0m\n\u001b[1;32m      5\u001b[0m     \u001b[0mcheck\u001b[0m\u001b[0;34m.\u001b[0m\u001b[0mappend\u001b[0m\u001b[0;34m(\u001b[0m\u001b[0mevent\u001b[0m\u001b[0;34m[\u001b[0m\u001b[0;34m'Country'\u001b[0m\u001b[0;34m]\u001b[0m\u001b[0;34m)\u001b[0m\u001b[0;34m\u001b[0m\u001b[0m\n\u001b[0;32m----> 6\u001b[0;31m \u001b[0mcountries\u001b[0m \u001b[0;34m=\u001b[0m \u001b[0mpd\u001b[0m\u001b[0;34m.\u001b[0m\u001b[0mSeries\u001b[0m\u001b[0;34m(\u001b[0m\u001b[0mlist\u001b[0m\u001b[0;34m(\u001b[0m\u001b[0mset\u001b[0m\u001b[0;34m(\u001b[0m\u001b[0mcheck\u001b[0m\u001b[0;34m)\u001b[0m\u001b[0;34m)\u001b[0m\u001b[0;34m)\u001b[0m\u001b[0;34m\u001b[0m\u001b[0m\n\u001b[0m\u001b[1;32m      7\u001b[0m \u001b[0mus_name\u001b[0m \u001b[0;34m=\u001b[0m \u001b[0;34m[\u001b[0m\u001b[0;34m'usa'\u001b[0m\u001b[0;34m,\u001b[0m \u001b[0;34m'United States'\u001b[0m\u001b[0;34m,\u001b[0m \u001b[0;34m'USA'\u001b[0m\u001b[0;34m,\u001b[0m \u001b[0;34m'America'\u001b[0m\u001b[0;34m,\u001b[0m \u001b[0;34m'United States of America'\u001b[0m\u001b[0;34m]\u001b[0m\u001b[0;34m\u001b[0m\u001b[0m\n\u001b[1;32m      8\u001b[0m \u001b[0mcountries\u001b[0m\u001b[0;34m[\u001b[0m\u001b[0mcountries\u001b[0m\u001b[0;34m.\u001b[0m\u001b[0misin\u001b[0m\u001b[0;34m(\u001b[0m\u001b[0mus_name\u001b[0m\u001b[0;34m)\u001b[0m\u001b[0;34m]\u001b[0m\u001b[0;34m\u001b[0m\u001b[0m\n",
      "\u001b[0;31mNameError\u001b[0m: name 'pd' is not defined"
     ]
    }
   ],
   "source": [
    "import numpy as np\n",
    "\n",
    "check = []\n",
    "for event in aviation_dict_list:\n",
    "    check.append(event['Country'])\n",
    "countries = pd.Series(list(set(check)))\n",
    "us_name = ['usa', 'United States', 'USA', 'America', 'United States of America']\n",
    "countries[countries.isin(us_name)]"
   ]
  },
  {
   "cell_type": "code",
   "execution_count": null,
   "metadata": {},
   "outputs": [],
   "source": [
    "from collections import Counter\n",
    "\n",
    "def count_usa(dl): # input: dict_list\n",
    "    states = list()\n",
    "    for event in dl:\n",
    "        if event['Country'] == 'United States':\n",
    "            states.append(event['Location'].split(',')[-1].strip())\n",
    "    state_count = Counter(states)\n",
    "    return state_count\n",
    "\n",
    "usa_accidents = count_usa(aviation_dict_list)\n",
    "usa_accidents.most_common(5)"
   ]
  },
  {
   "cell_type": "markdown",
   "metadata": {},
   "source": [
    "### Count Injuries by Month and Year"
   ]
  },
  {
   "cell_type": "code",
   "execution_count": null,
   "metadata": {},
   "outputs": [],
   "source": [
    "# for i in range(5):\n",
    "#     print(aviation_dict_list[i]['Event Date'].split('/'))\n",
    "#     print(aviation_dict_list[i]['Event Id'][4:6])\n",
    "#     print(aviation_dict_list[i]['Event Id'][0:4])"
   ]
  },
  {
   "cell_type": "code",
   "execution_count": null,
   "metadata": {},
   "outputs": [],
   "source": [
    "def count_month_injuries(dl):\n",
    "    mapping = {\"01\":\"January\",\n",
    "                \"02\":\"February\",\n",
    "                \"03\":\"March\",\n",
    "                \"04\":\"April\",\n",
    "                \"05\":\"May\",\n",
    "                \"06\":\"June\",\n",
    "                \"07\":\"July\",\n",
    "                \"08\":\"August\",\n",
    "                \"09\":\"September\",\n",
    "                \"10\":\"October\",\n",
    "                \"11\":\"November\",\n",
    "                \"12\":\"December\"}\n",
    "    \n",
    "    counter_by_month = {}\n",
    "    \n",
    "    for event in dl:\n",
    "        injuries = 0\n",
    "        if event['Event Date'] != '':     # skip '' date\n",
    "            month = event['Event Date'].split('/')[0]\n",
    "            year = event['Event Date'].split('/')[-1]           \n",
    "            try:\n",
    "                month = mapping[month]\n",
    "            except KeyError:\n",
    "                month = event['Event Id'][4:6]\n",
    "                month = mapping[month]\n",
    "                year = event['Event Id'][0:4]\n",
    "            \n",
    "            full_month = ' '.join((month, year))\n",
    "            \n",
    "            if event['Total Fatal Injuries'] == '':\n",
    "                event['Total Fatal Injuries'] = '0'\n",
    "            if event['Total Serious Injuries'] == '':\n",
    "                event['Total Serious Injuries'] = '0'\n",
    "                \n",
    "            injuries += int(event['Total Fatal Injuries']) + int(event['Total Serious Injuries'])\n",
    "            counter_by_month[full_month] = injuries\n",
    "            counter_by_month = Counter(counter_by_month)\n",
    "\n",
    "    return counter_by_month\n",
    "\n",
    "month_injuries = count_month_injuries(aviation_dict_list)\n",
    "month_injuries.most_common(5)            "
   ]
  },
  {
   "cell_type": "markdown",
   "metadata": {},
   "source": [
    "## Count Accidents by Month and Year"
   ]
  },
  {
   "cell_type": "code",
   "execution_count": null,
   "metadata": {},
   "outputs": [],
   "source": [
    "def count_month_accidents(dl):\n",
    "    mapping = {\"01\":\"January\",\n",
    "                \"02\":\"February\",\n",
    "                \"03\":\"March\",\n",
    "                \"04\":\"April\",\n",
    "                \"05\":\"May\",\n",
    "                \"06\":\"June\",\n",
    "                \"07\":\"July\",\n",
    "                \"08\":\"August\",\n",
    "                \"09\":\"September\",\n",
    "                \"10\":\"October\",\n",
    "                \"11\":\"November\",\n",
    "                \"12\":\"December\"}\n",
    "    \n",
    "    months = list()\n",
    "    \n",
    "    for event in dl:\n",
    "        injuries = 0\n",
    "        if event['Event Date'] != '':     # skip '' date\n",
    "            month = event['Event Date'].split('/')[0]\n",
    "            year = event['Event Date'].split('/')[-1]           \n",
    "            try:\n",
    "                month = mapping[month]\n",
    "            except KeyError:\n",
    "                month = event['Event Id'][4:6]\n",
    "                month = mapping[month]\n",
    "                year = event['Event Id'][0:4]\n",
    "            full_month = ' '.join((month, year))\n",
    "            months.append(full_month)\n",
    "    count_by_month = Counter(months)\n",
    "\n",
    "    return count_by_month\n",
    "\n",
    "month_accidents = count_month_accidents(aviation_dict_list)\n",
    "month_accidents.most_common(5)        "
   ]
  },
  {
   "cell_type": "markdown",
   "metadata": {},
   "source": [
    "Worst months for injuries and for accidents are not corresponding!\n",
    "\n",
    "it appears we can study the data about:\n",
    "- Map out accidents using the basemap library for matplotlib.\n",
    "- Count the number of accidents by air carrier.\n",
    "- Count the number of accidents by airplane make and model.\n",
    "- Figure out what percentage of accidents occur under adverse weather conditions.\n"
   ]
  },
  {
   "cell_type": "code",
   "execution_count": null,
   "metadata": {},
   "outputs": [],
   "source": []
  }
 ],
 "metadata": {
  "kernelspec": {
   "display_name": "Python 3",
   "language": "python",
   "name": "python3"
  },
  "language_info": {
   "codemirror_mode": {
    "name": "ipython",
    "version": 3
   },
   "file_extension": ".py",
   "mimetype": "text/x-python",
   "name": "python",
   "nbconvert_exporter": "python",
   "pygments_lexer": "ipython3",
   "version": "3.6.5"
  }
 },
 "nbformat": 4,
 "nbformat_minor": 2
}
